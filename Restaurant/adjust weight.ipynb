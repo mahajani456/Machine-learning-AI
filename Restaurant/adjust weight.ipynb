{
 "cells": [
  {
   "cell_type": "code",
   "execution_count": 15,
   "metadata": {},
   "outputs": [],
   "source": [
    "import numpy as np\n",
    "import pandas as pd\n",
    "import random\n",
    "from sklearn import preprocessing"
   ]
  },
  {
   "cell_type": "code",
   "execution_count": 3,
   "metadata": {},
   "outputs": [],
   "source": [
    "df = pd.read_csv(\"latest_data.csv\")"
   ]
  },
  {
   "cell_type": "code",
   "execution_count": 6,
   "metadata": {},
   "outputs": [
    {
     "data": {
      "text/html": [
       "<div>\n",
       "<style scoped>\n",
       "    .dataframe tbody tr th:only-of-type {\n",
       "        vertical-align: middle;\n",
       "    }\n",
       "\n",
       "    .dataframe tbody tr th {\n",
       "        vertical-align: top;\n",
       "    }\n",
       "\n",
       "    .dataframe thead th {\n",
       "        text-align: right;\n",
       "    }\n",
       "</style>\n",
       "<table border=\"1\" class=\"dataframe\">\n",
       "  <thead>\n",
       "    <tr style=\"text-align: right;\">\n",
       "      <th></th>\n",
       "      <th>user</th>\n",
       "      <th>dish_ordered</th>\n",
       "      <th>day</th>\n",
       "      <th>time</th>\n",
       "      <th>veg</th>\n",
       "      <th>place</th>\n",
       "    </tr>\n",
       "  </thead>\n",
       "  <tbody>\n",
       "    <tr>\n",
       "      <th>0</th>\n",
       "      <td>user_418</td>\n",
       "      <td>kaju barfi</td>\n",
       "      <td>wed</td>\n",
       "      <td>breakfast</td>\n",
       "      <td>yes</td>\n",
       "      <td>office</td>\n",
       "    </tr>\n",
       "    <tr>\n",
       "      <th>1</th>\n",
       "      <td>user_566</td>\n",
       "      <td>momo burger</td>\n",
       "      <td>sun</td>\n",
       "      <td>lunch</td>\n",
       "      <td>yes</td>\n",
       "      <td>office</td>\n",
       "    </tr>\n",
       "    <tr>\n",
       "      <th>2</th>\n",
       "      <td>user_42</td>\n",
       "      <td>rustica pizza</td>\n",
       "      <td>fri</td>\n",
       "      <td>breakfast</td>\n",
       "      <td>yes</td>\n",
       "      <td>home</td>\n",
       "    </tr>\n",
       "    <tr>\n",
       "      <th>3</th>\n",
       "      <td>user_376</td>\n",
       "      <td>mashed potato</td>\n",
       "      <td>fri</td>\n",
       "      <td>breakfast</td>\n",
       "      <td>yes</td>\n",
       "      <td>home</td>\n",
       "    </tr>\n",
       "    <tr>\n",
       "      <th>4</th>\n",
       "      <td>user_795</td>\n",
       "      <td>skillet cookie</td>\n",
       "      <td>mon</td>\n",
       "      <td>dinner</td>\n",
       "      <td>yes</td>\n",
       "      <td>office</td>\n",
       "    </tr>\n",
       "  </tbody>\n",
       "</table>\n",
       "</div>"
      ],
      "text/plain": [
       "       user    dish_ordered  day       time  veg   place\n",
       "0  user_418      kaju barfi  wed  breakfast  yes  office\n",
       "1  user_566     momo burger  sun      lunch  yes  office\n",
       "2   user_42   rustica pizza  fri  breakfast  yes    home\n",
       "3  user_376   mashed potato  fri  breakfast  yes    home\n",
       "4  user_795  skillet cookie  mon     dinner  yes  office"
      ]
     },
     "execution_count": 6,
     "metadata": {},
     "output_type": "execute_result"
    }
   ],
   "source": [
    "df.head(5)"
   ]
  },
  {
   "cell_type": "code",
   "execution_count": 5,
   "metadata": {},
   "outputs": [],
   "source": [
    "del df['Unnamed: 0']"
   ]
  },
  {
   "cell_type": "code",
   "execution_count": 8,
   "metadata": {},
   "outputs": [],
   "source": [
    "dict_of_data = {k: v for k, v in df.groupby('user')}"
   ]
  },
  {
   "cell_type": "code",
   "execution_count": 12,
   "metadata": {},
   "outputs": [],
   "source": [
    "user_df = dict_of_data['user_1']"
   ]
  },
  {
   "cell_type": "code",
   "execution_count": 14,
   "metadata": {},
   "outputs": [
    {
     "data": {
      "text/html": [
       "<div>\n",
       "<style scoped>\n",
       "    .dataframe tbody tr th:only-of-type {\n",
       "        vertical-align: middle;\n",
       "    }\n",
       "\n",
       "    .dataframe tbody tr th {\n",
       "        vertical-align: top;\n",
       "    }\n",
       "\n",
       "    .dataframe thead th {\n",
       "        text-align: right;\n",
       "    }\n",
       "</style>\n",
       "<table border=\"1\" class=\"dataframe\">\n",
       "  <thead>\n",
       "    <tr style=\"text-align: right;\">\n",
       "      <th></th>\n",
       "      <th>user</th>\n",
       "      <th>dish_ordered</th>\n",
       "      <th>day</th>\n",
       "      <th>time</th>\n",
       "      <th>veg</th>\n",
       "      <th>place</th>\n",
       "    </tr>\n",
       "  </thead>\n",
       "  <tbody>\n",
       "    <tr>\n",
       "      <th>6226</th>\n",
       "      <td>user_1</td>\n",
       "      <td>pili pili pizza</td>\n",
       "      <td>sat</td>\n",
       "      <td>dinner</td>\n",
       "      <td>yes</td>\n",
       "      <td>home</td>\n",
       "    </tr>\n",
       "    <tr>\n",
       "      <th>7140</th>\n",
       "      <td>user_1</td>\n",
       "      <td>malpua</td>\n",
       "      <td>sun</td>\n",
       "      <td>dinner</td>\n",
       "      <td>yes</td>\n",
       "      <td>home</td>\n",
       "    </tr>\n",
       "    <tr>\n",
       "      <th>7636</th>\n",
       "      <td>user_1</td>\n",
       "      <td>paneer manchurian</td>\n",
       "      <td>sat</td>\n",
       "      <td>dinner</td>\n",
       "      <td>yes</td>\n",
       "      <td>home</td>\n",
       "    </tr>\n",
       "    <tr>\n",
       "      <th>10392</th>\n",
       "      <td>user_1</td>\n",
       "      <td>achari mushroom</td>\n",
       "      <td>fri</td>\n",
       "      <td>dinner</td>\n",
       "      <td>yes</td>\n",
       "      <td>home</td>\n",
       "    </tr>\n",
       "    <tr>\n",
       "      <th>10449</th>\n",
       "      <td>user_1</td>\n",
       "      <td>peri peri wrap</td>\n",
       "      <td>fri</td>\n",
       "      <td>lunch</td>\n",
       "      <td>yes</td>\n",
       "      <td>home</td>\n",
       "    </tr>\n",
       "  </tbody>\n",
       "</table>\n",
       "</div>"
      ],
      "text/plain": [
       "         user       dish_ordered  day    time  veg place\n",
       "6226   user_1    pili pili pizza  sat  dinner  yes  home\n",
       "7140   user_1             malpua  sun  dinner  yes  home\n",
       "7636   user_1  paneer manchurian  sat  dinner  yes  home\n",
       "10392  user_1    achari mushroom  fri  dinner  yes  home\n",
       "10449  user_1     peri peri wrap  fri   lunch  yes  home"
      ]
     },
     "execution_count": 14,
     "metadata": {},
     "output_type": "execute_result"
    }
   ],
   "source": [
    "user_df.head(5)"
   ]
  },
  {
   "cell_type": "code",
   "execution_count": 13,
   "metadata": {},
   "outputs": [
    {
     "data": {
      "text/plain": [
       "91"
      ]
     },
     "execution_count": 13,
     "metadata": {},
     "output_type": "execute_result"
    }
   ],
   "source": [
    "len(user_df)"
   ]
  },
  {
   "cell_type": "code",
   "execution_count": 16,
   "metadata": {},
   "outputs": [],
   "source": [
    "le = preprocessing.LabelEncoder()"
   ]
  },
  {
   "cell_type": "code",
   "execution_count": 17,
   "metadata": {},
   "outputs": [],
   "source": [
    "veg_encd = le.fit_transform(user_df['veg'])\n",
    "le_veg_mapping = dict(zip(le.classes_, le.transform(le.classes_)))"
   ]
  },
  {
   "cell_type": "code",
   "execution_count": 18,
   "metadata": {},
   "outputs": [],
   "source": [
    "dish_ordered_encd = le.fit_transform(user_df['dish_ordered'])\n",
    "le_dish_mapping = dict(zip(le.transform(le.classes_),le.classes_))\n",
    "le_dish_mapping_rf = dict(zip(le.classes_, le.transform(le.classes_)))"
   ]
  },
  {
   "cell_type": "code",
   "execution_count": 19,
   "metadata": {},
   "outputs": [],
   "source": [
    "time_encd = le.fit_transform(user_df['time'])\n",
    "le_time_mapping = dict(zip(le.classes_, le.transform(le.classes_)))"
   ]
  },
  {
   "cell_type": "code",
   "execution_count": 20,
   "metadata": {},
   "outputs": [],
   "source": [
    "day_encd = le.fit_transform(user_df['day'])\n",
    "le_day_mapping = dict(zip(le.classes_, le.transform(le.classes_)))"
   ]
  },
  {
   "cell_type": "code",
   "execution_count": 41,
   "metadata": {},
   "outputs": [],
   "source": [
    "place_encd = le.fit_transform(user_df['place'])\n",
    "le_place_mapping = dict(zip(le.classes_, le.transform(le.classes_)))"
   ]
  },
  {
   "cell_type": "code",
   "execution_count": 42,
   "metadata": {},
   "outputs": [],
   "source": [
    "liked_encd = le.fit_transform(user_df['liked'])\n",
    "le_liked_mapping = dict(zip(le.classes_, le.transform(le.classes_)))"
   ]
  },
  {
   "cell_type": "code",
   "execution_count": 24,
   "metadata": {},
   "outputs": [],
   "source": [
    "listt = ['yes','no']"
   ]
  },
  {
   "cell_type": "code",
   "execution_count": 23,
   "metadata": {},
   "outputs": [],
   "source": [
    "import random"
   ]
  },
  {
   "cell_type": "code",
   "execution_count": 25,
   "metadata": {},
   "outputs": [],
   "source": [
    "liked = random.choices(listt, k=91)"
   ]
  },
  {
   "cell_type": "code",
   "execution_count": 27,
   "metadata": {},
   "outputs": [],
   "source": [
    "#liked"
   ]
  },
  {
   "cell_type": "code",
   "execution_count": 28,
   "metadata": {},
   "outputs": [],
   "source": [
    "user_df['liked'] = liked"
   ]
  },
  {
   "cell_type": "code",
   "execution_count": 29,
   "metadata": {},
   "outputs": [
    {
     "data": {
      "text/html": [
       "<div>\n",
       "<style scoped>\n",
       "    .dataframe tbody tr th:only-of-type {\n",
       "        vertical-align: middle;\n",
       "    }\n",
       "\n",
       "    .dataframe tbody tr th {\n",
       "        vertical-align: top;\n",
       "    }\n",
       "\n",
       "    .dataframe thead th {\n",
       "        text-align: right;\n",
       "    }\n",
       "</style>\n",
       "<table border=\"1\" class=\"dataframe\">\n",
       "  <thead>\n",
       "    <tr style=\"text-align: right;\">\n",
       "      <th></th>\n",
       "      <th>user</th>\n",
       "      <th>dish_ordered</th>\n",
       "      <th>day</th>\n",
       "      <th>time</th>\n",
       "      <th>veg</th>\n",
       "      <th>place</th>\n",
       "      <th>liked</th>\n",
       "    </tr>\n",
       "  </thead>\n",
       "  <tbody>\n",
       "    <tr>\n",
       "      <th>6226</th>\n",
       "      <td>user_1</td>\n",
       "      <td>pili pili pizza</td>\n",
       "      <td>sat</td>\n",
       "      <td>dinner</td>\n",
       "      <td>yes</td>\n",
       "      <td>home</td>\n",
       "      <td>no</td>\n",
       "    </tr>\n",
       "    <tr>\n",
       "      <th>7140</th>\n",
       "      <td>user_1</td>\n",
       "      <td>malpua</td>\n",
       "      <td>sun</td>\n",
       "      <td>dinner</td>\n",
       "      <td>yes</td>\n",
       "      <td>home</td>\n",
       "      <td>yes</td>\n",
       "    </tr>\n",
       "    <tr>\n",
       "      <th>7636</th>\n",
       "      <td>user_1</td>\n",
       "      <td>paneer manchurian</td>\n",
       "      <td>sat</td>\n",
       "      <td>dinner</td>\n",
       "      <td>yes</td>\n",
       "      <td>home</td>\n",
       "      <td>yes</td>\n",
       "    </tr>\n",
       "    <tr>\n",
       "      <th>10392</th>\n",
       "      <td>user_1</td>\n",
       "      <td>achari mushroom</td>\n",
       "      <td>fri</td>\n",
       "      <td>dinner</td>\n",
       "      <td>yes</td>\n",
       "      <td>home</td>\n",
       "      <td>yes</td>\n",
       "    </tr>\n",
       "    <tr>\n",
       "      <th>10449</th>\n",
       "      <td>user_1</td>\n",
       "      <td>peri peri wrap</td>\n",
       "      <td>fri</td>\n",
       "      <td>lunch</td>\n",
       "      <td>yes</td>\n",
       "      <td>home</td>\n",
       "      <td>yes</td>\n",
       "    </tr>\n",
       "  </tbody>\n",
       "</table>\n",
       "</div>"
      ],
      "text/plain": [
       "         user       dish_ordered  day    time  veg place liked\n",
       "6226   user_1    pili pili pizza  sat  dinner  yes  home    no\n",
       "7140   user_1             malpua  sun  dinner  yes  home   yes\n",
       "7636   user_1  paneer manchurian  sat  dinner  yes  home   yes\n",
       "10392  user_1    achari mushroom  fri  dinner  yes  home   yes\n",
       "10449  user_1     peri peri wrap  fri   lunch  yes  home   yes"
      ]
     },
     "execution_count": 29,
     "metadata": {},
     "output_type": "execute_result"
    }
   ],
   "source": [
    "user_df.head(5)"
   ]
  },
  {
   "cell_type": "code",
   "execution_count": 30,
   "metadata": {},
   "outputs": [],
   "source": [
    "list2 = zip(time_encd,day_encd,place_encd)\n",
    "features=list(list2)"
   ]
  },
  {
   "cell_type": "code",
   "execution_count": 56,
   "metadata": {},
   "outputs": [],
   "source": [
    "from sklearn.naive_bayes import GaussianNB\n",
    "from sklearn.ensemble import RandomForestClassifier"
   ]
  },
  {
   "cell_type": "code",
   "execution_count": 32,
   "metadata": {},
   "outputs": [],
   "source": [
    "model=GaussianNB()"
   ]
  },
  {
   "cell_type": "code",
   "execution_count": 33,
   "metadata": {},
   "outputs": [
    {
     "data": {
      "text/plain": [
       "GaussianNB(priors=None, var_smoothing=1e-09)"
      ]
     },
     "execution_count": 33,
     "metadata": {},
     "output_type": "execute_result"
    }
   ],
   "source": [
    "model.fit(features,dish_ordered_encd)"
   ]
  },
  {
   "cell_type": "code",
   "execution_count": 34,
   "metadata": {},
   "outputs": [],
   "source": [
    "predicted = model.predict([[le_time_mapping['breakfast'],le_day_mapping['mon'],le_place_mapping['office']]])"
   ]
  },
  {
   "cell_type": "code",
   "execution_count": 35,
   "metadata": {},
   "outputs": [
    {
     "data": {
      "text/plain": [
       "'dahi papadi chaat'"
      ]
     },
     "execution_count": 35,
     "metadata": {},
     "output_type": "execute_result"
    }
   ],
   "source": [
    "le_dish_mapping[predicted.item()]"
   ]
  },
  {
   "cell_type": "code",
   "execution_count": 36,
   "metadata": {},
   "outputs": [
    {
     "data": {
      "text/plain": [
       "array([19])"
      ]
     },
     "execution_count": 36,
     "metadata": {},
     "output_type": "execute_result"
    }
   ],
   "source": [
    "predicted"
   ]
  },
  {
   "cell_type": "code",
   "execution_count": 37,
   "metadata": {},
   "outputs": [],
   "source": [
    "predicted =model.predict_proba([[le_time_mapping['breakfast'],le_day_mapping['wed'],le_place_mapping['office']]])"
   ]
  },
  {
   "cell_type": "code",
   "execution_count": 38,
   "metadata": {},
   "outputs": [
    {
     "data": {
      "text/plain": [
       "{'andhra chilli chicken': 0.4999999999887494,\n",
       " 'berryblast': 0.4999999999887494,\n",
       " 'rich chicken broth': 1.582079721785505e-11,\n",
       " 'smoked chicken sandwich': 6.5950894874877284e-12,\n",
       " 'chicken frankie': 8.64369043533659e-14}"
      ]
     },
     "execution_count": 38,
     "metadata": {},
     "output_type": "execute_result"
    }
   ],
   "source": [
    "p = np.argsort(-predicted)\n",
    "recommend= {}\n",
    "for i in range(0,5):\n",
    "    recommend[le_dish_mapping[p[0,i]]] = predicted[0,p[0,i]]\n",
    "\n",
    "recommend"
   ]
  },
  {
   "cell_type": "code",
   "execution_count": 39,
   "metadata": {},
   "outputs": [],
   "source": [
    "list3 = zip(time_encd,day_encd,place_encd)\n",
    "features=list(list3)"
   ]
  },
  {
   "cell_type": "code",
   "execution_count": 43,
   "metadata": {},
   "outputs": [
    {
     "data": {
      "text/plain": [
       "GaussianNB(priors=None, var_smoothing=1e-09)"
      ]
     },
     "execution_count": 43,
     "metadata": {},
     "output_type": "execute_result"
    }
   ],
   "source": [
    "model2=GaussianNB()\n",
    "model2.fit(features,liked_encd)"
   ]
  },
  {
   "cell_type": "code",
   "execution_count": 44,
   "metadata": {},
   "outputs": [],
   "source": [
    "predicted2 =model2.predict_proba([[le_time_mapping['breakfast'],le_day_mapping['wed'],le_place_mapping['office']]])"
   ]
  },
  {
   "cell_type": "code",
   "execution_count": 45,
   "metadata": {},
   "outputs": [
    {
     "data": {
      "text/plain": [
       "array([[0.6734483, 0.3265517]])"
      ]
     },
     "execution_count": 45,
     "metadata": {},
     "output_type": "execute_result"
    }
   ],
   "source": [
    "predicted2 #probability of ordering at this time place and day"
   ]
  },
  {
   "cell_type": "code",
   "execution_count": 46,
   "metadata": {},
   "outputs": [
    {
     "data": {
      "text/plain": [
       "{'no': 0, 'yes': 1}"
      ]
     },
     "execution_count": 46,
     "metadata": {},
     "output_type": "execute_result"
    }
   ],
   "source": [
    "le_liked_mapping"
   ]
  },
  {
   "cell_type": "code",
   "execution_count": 47,
   "metadata": {},
   "outputs": [],
   "source": [
    "############################"
   ]
  },
  {
   "cell_type": "code",
   "execution_count": 48,
   "metadata": {},
   "outputs": [],
   "source": [
    "list4 = zip(time_encd,dish_ordered_encd)\n",
    "features=list(list4)"
   ]
  },
  {
   "cell_type": "code",
   "execution_count": 58,
   "metadata": {},
   "outputs": [
    {
     "name": "stderr",
     "output_type": "stream",
     "text": [
      "C:\\Users\\mahaj\\Anaconda3\\lib\\site-packages\\sklearn\\ensemble\\forest.py:246: FutureWarning: The default value of n_estimators will change from 10 in version 0.20 to 100 in 0.22.\n",
      "  \"10 in version 0.20 to 100 in 0.22.\", FutureWarning)\n"
     ]
    },
    {
     "data": {
      "text/plain": [
       "RandomForestClassifier(bootstrap=True, class_weight=None, criterion='gini',\n",
       "            max_depth=None, max_features='auto', max_leaf_nodes=None,\n",
       "            min_impurity_decrease=0.0, min_impurity_split=None,\n",
       "            min_samples_leaf=1, min_samples_split=2,\n",
       "            min_weight_fraction_leaf=0.0, n_estimators=10, n_jobs=None,\n",
       "            oob_score=False, random_state=None, verbose=0,\n",
       "            warm_start=False)"
      ]
     },
     "execution_count": 58,
     "metadata": {},
     "output_type": "execute_result"
    }
   ],
   "source": [
    "#model3=GaussianNB()\n",
    "#model3.fit(features,liked_encd)\n",
    "\n",
    "model3 = RandomForestClassifier()\n",
    "model3.fit(features,liked_encd)"
   ]
  },
  {
   "cell_type": "code",
   "execution_count": 59,
   "metadata": {},
   "outputs": [],
   "source": [
    "predicted3 =model3.predict_proba([[le_time_mapping['breakfast'],le_dish_mapping_rf['andhra chilli chicken']]])"
   ]
  },
  {
   "cell_type": "code",
   "execution_count": 60,
   "metadata": {},
   "outputs": [
    {
     "data": {
      "text/plain": [
       "array([[0.1, 0.9]])"
      ]
     },
     "execution_count": 60,
     "metadata": {},
     "output_type": "execute_result"
    }
   ],
   "source": [
    "predicted3"
   ]
  },
  {
   "cell_type": "code",
   "execution_count": 61,
   "metadata": {},
   "outputs": [],
   "source": [
    "predicted3 =model3.predict_proba([[le_time_mapping['breakfast'],le_dish_mapping_rf['berryblast']]])"
   ]
  },
  {
   "cell_type": "code",
   "execution_count": 62,
   "metadata": {},
   "outputs": [
    {
     "data": {
      "text/plain": [
       "array([[0.6, 0.4]])"
      ]
     },
     "execution_count": 62,
     "metadata": {},
     "output_type": "execute_result"
    }
   ],
   "source": [
    "predicted3"
   ]
  },
  {
   "cell_type": "code",
   "execution_count": 64,
   "metadata": {},
   "outputs": [],
   "source": [
    "#user_df"
   ]
  },
  {
   "cell_type": "code",
   "execution_count": 65,
   "metadata": {},
   "outputs": [],
   "source": [
    "######### based on day ##############"
   ]
  },
  {
   "cell_type": "code",
   "execution_count": 66,
   "metadata": {},
   "outputs": [],
   "source": [
    "list5 = zip(day_encd,veg_encd)\n",
    "features=list(list5)"
   ]
  },
  {
   "cell_type": "code",
   "execution_count": 67,
   "metadata": {},
   "outputs": [
    {
     "name": "stderr",
     "output_type": "stream",
     "text": [
      "C:\\Users\\mahaj\\Anaconda3\\lib\\site-packages\\sklearn\\ensemble\\forest.py:246: FutureWarning: The default value of n_estimators will change from 10 in version 0.20 to 100 in 0.22.\n",
      "  \"10 in version 0.20 to 100 in 0.22.\", FutureWarning)\n"
     ]
    },
    {
     "data": {
      "text/plain": [
       "RandomForestClassifier(bootstrap=True, class_weight=None, criterion='gini',\n",
       "            max_depth=None, max_features='auto', max_leaf_nodes=None,\n",
       "            min_impurity_decrease=0.0, min_impurity_split=None,\n",
       "            min_samples_leaf=1, min_samples_split=2,\n",
       "            min_weight_fraction_leaf=0.0, n_estimators=10, n_jobs=None,\n",
       "            oob_score=False, random_state=None, verbose=0,\n",
       "            warm_start=False)"
      ]
     },
     "execution_count": 67,
     "metadata": {},
     "output_type": "execute_result"
    }
   ],
   "source": [
    "model4 = RandomForestClassifier()\n",
    "model4.fit(features,liked_encd)"
   ]
  },
  {
   "cell_type": "code",
   "execution_count": 78,
   "metadata": {},
   "outputs": [],
   "source": [
    "predicted4 =model4.predict_proba([[le_day_mapping['tue'],le_veg_mapping['no']]])"
   ]
  },
  {
   "cell_type": "code",
   "execution_count": 79,
   "metadata": {},
   "outputs": [
    {
     "data": {
      "text/plain": [
       "array([[0.54916667, 0.45083333]])"
      ]
     },
     "execution_count": 79,
     "metadata": {},
     "output_type": "execute_result"
    }
   ],
   "source": [
    "predicted4"
   ]
  },
  {
   "cell_type": "code",
   "execution_count": 73,
   "metadata": {},
   "outputs": [
    {
     "data": {
      "text/html": [
       "<div>\n",
       "<style scoped>\n",
       "    .dataframe tbody tr th:only-of-type {\n",
       "        vertical-align: middle;\n",
       "    }\n",
       "\n",
       "    .dataframe tbody tr th {\n",
       "        vertical-align: top;\n",
       "    }\n",
       "\n",
       "    .dataframe thead th {\n",
       "        text-align: right;\n",
       "    }\n",
       "</style>\n",
       "<table border=\"1\" class=\"dataframe\">\n",
       "  <thead>\n",
       "    <tr style=\"text-align: right;\">\n",
       "      <th></th>\n",
       "      <th>user</th>\n",
       "      <th>dish_ordered</th>\n",
       "      <th>day</th>\n",
       "      <th>time</th>\n",
       "      <th>veg</th>\n",
       "      <th>place</th>\n",
       "      <th>liked</th>\n",
       "    </tr>\n",
       "  </thead>\n",
       "  <tbody>\n",
       "    <tr>\n",
       "      <th>12314</th>\n",
       "      <td>user_1</td>\n",
       "      <td>spicy crispy corn</td>\n",
       "      <td>tue</td>\n",
       "      <td>lunch</td>\n",
       "      <td>yes</td>\n",
       "      <td>office</td>\n",
       "      <td>no</td>\n",
       "    </tr>\n",
       "    <tr>\n",
       "      <th>12383</th>\n",
       "      <td>user_1</td>\n",
       "      <td>ladoo</td>\n",
       "      <td>tue</td>\n",
       "      <td>dinner</td>\n",
       "      <td>yes</td>\n",
       "      <td>office</td>\n",
       "      <td>no</td>\n",
       "    </tr>\n",
       "    <tr>\n",
       "      <th>13137</th>\n",
       "      <td>user_1</td>\n",
       "      <td>hash brown</td>\n",
       "      <td>tue</td>\n",
       "      <td>lunch</td>\n",
       "      <td>yes</td>\n",
       "      <td>office</td>\n",
       "      <td>yes</td>\n",
       "    </tr>\n",
       "    <tr>\n",
       "      <th>13487</th>\n",
       "      <td>user_1</td>\n",
       "      <td>ice cream sundae</td>\n",
       "      <td>tue</td>\n",
       "      <td>lunch</td>\n",
       "      <td>yes</td>\n",
       "      <td>office</td>\n",
       "      <td>yes</td>\n",
       "    </tr>\n",
       "    <tr>\n",
       "      <th>13820</th>\n",
       "      <td>user_1</td>\n",
       "      <td>rich chicken broth</td>\n",
       "      <td>tue</td>\n",
       "      <td>dinner</td>\n",
       "      <td>no</td>\n",
       "      <td>office</td>\n",
       "      <td>yes</td>\n",
       "    </tr>\n",
       "    <tr>\n",
       "      <th>20062</th>\n",
       "      <td>user_1</td>\n",
       "      <td>afghani biryani</td>\n",
       "      <td>tue</td>\n",
       "      <td>dinner</td>\n",
       "      <td>yes</td>\n",
       "      <td>home</td>\n",
       "      <td>no</td>\n",
       "    </tr>\n",
       "    <tr>\n",
       "      <th>20449</th>\n",
       "      <td>user_1</td>\n",
       "      <td>stuffed chicken pizza</td>\n",
       "      <td>tue</td>\n",
       "      <td>lunch</td>\n",
       "      <td>no</td>\n",
       "      <td>home</td>\n",
       "      <td>no</td>\n",
       "    </tr>\n",
       "    <tr>\n",
       "      <th>21194</th>\n",
       "      <td>user_1</td>\n",
       "      <td>lamb chops</td>\n",
       "      <td>tue</td>\n",
       "      <td>dinner</td>\n",
       "      <td>no</td>\n",
       "      <td>office</td>\n",
       "      <td>no</td>\n",
       "    </tr>\n",
       "    <tr>\n",
       "      <th>21622</th>\n",
       "      <td>user_1</td>\n",
       "      <td>falafel pita</td>\n",
       "      <td>tue</td>\n",
       "      <td>breakfast</td>\n",
       "      <td>yes</td>\n",
       "      <td>office</td>\n",
       "      <td>no</td>\n",
       "    </tr>\n",
       "    <tr>\n",
       "      <th>22569</th>\n",
       "      <td>user_1</td>\n",
       "      <td>pane pizza</td>\n",
       "      <td>tue</td>\n",
       "      <td>dinner</td>\n",
       "      <td>yes</td>\n",
       "      <td>home</td>\n",
       "      <td>yes</td>\n",
       "    </tr>\n",
       "    <tr>\n",
       "      <th>28396</th>\n",
       "      <td>user_1</td>\n",
       "      <td>thai noodles</td>\n",
       "      <td>tue</td>\n",
       "      <td>lunch</td>\n",
       "      <td>yes</td>\n",
       "      <td>home</td>\n",
       "      <td>yes</td>\n",
       "    </tr>\n",
       "    <tr>\n",
       "      <th>29790</th>\n",
       "      <td>user_1</td>\n",
       "      <td>potato krisper</td>\n",
       "      <td>tue</td>\n",
       "      <td>breakfast</td>\n",
       "      <td>yes</td>\n",
       "      <td>office</td>\n",
       "      <td>yes</td>\n",
       "    </tr>\n",
       "    <tr>\n",
       "      <th>29964</th>\n",
       "      <td>user_1</td>\n",
       "      <td>chicken sausages</td>\n",
       "      <td>tue</td>\n",
       "      <td>breakfast</td>\n",
       "      <td>no</td>\n",
       "      <td>office</td>\n",
       "      <td>yes</td>\n",
       "    </tr>\n",
       "    <tr>\n",
       "      <th>31234</th>\n",
       "      <td>user_1</td>\n",
       "      <td>khichda</td>\n",
       "      <td>tue</td>\n",
       "      <td>dinner</td>\n",
       "      <td>yes</td>\n",
       "      <td>office</td>\n",
       "      <td>yes</td>\n",
       "    </tr>\n",
       "    <tr>\n",
       "      <th>31372</th>\n",
       "      <td>user_1</td>\n",
       "      <td>lime mojito</td>\n",
       "      <td>tue</td>\n",
       "      <td>dinner</td>\n",
       "      <td>yes</td>\n",
       "      <td>office</td>\n",
       "      <td>no</td>\n",
       "    </tr>\n",
       "    <tr>\n",
       "      <th>37351</th>\n",
       "      <td>user_1</td>\n",
       "      <td>roast pork</td>\n",
       "      <td>tue</td>\n",
       "      <td>breakfast</td>\n",
       "      <td>no</td>\n",
       "      <td>home</td>\n",
       "      <td>no</td>\n",
       "    </tr>\n",
       "  </tbody>\n",
       "</table>\n",
       "</div>"
      ],
      "text/plain": [
       "         user           dish_ordered  day       time  veg   place liked\n",
       "12314  user_1      spicy crispy corn  tue      lunch  yes  office    no\n",
       "12383  user_1                  ladoo  tue     dinner  yes  office    no\n",
       "13137  user_1             hash brown  tue      lunch  yes  office   yes\n",
       "13487  user_1       ice cream sundae  tue      lunch  yes  office   yes\n",
       "13820  user_1     rich chicken broth  tue     dinner   no  office   yes\n",
       "20062  user_1        afghani biryani  tue     dinner  yes    home    no\n",
       "20449  user_1  stuffed chicken pizza  tue      lunch   no    home    no\n",
       "21194  user_1             lamb chops  tue     dinner   no  office    no\n",
       "21622  user_1           falafel pita  tue  breakfast  yes  office    no\n",
       "22569  user_1             pane pizza  tue     dinner  yes    home   yes\n",
       "28396  user_1           thai noodles  tue      lunch  yes    home   yes\n",
       "29790  user_1         potato krisper  tue  breakfast  yes  office   yes\n",
       "29964  user_1       chicken sausages  tue  breakfast   no  office   yes\n",
       "31234  user_1                khichda  tue     dinner  yes  office   yes\n",
       "31372  user_1            lime mojito  tue     dinner  yes  office    no\n",
       "37351  user_1             roast pork  tue  breakfast   no    home    no"
      ]
     },
     "execution_count": 73,
     "metadata": {},
     "output_type": "execute_result"
    }
   ],
   "source": [
    "user_df[user_df['day'] == 'tue']"
   ]
  },
  {
   "cell_type": "code",
   "execution_count": 85,
   "metadata": {},
   "outputs": [
    {
     "data": {
      "text/plain": [
       "{'andhra chilli chicken': 0.4999999999887494,\n",
       " 'berryblast': 0.4999999999887494,\n",
       " 'rich chicken broth': 1.582079721785505e-11,\n",
       " 'smoked chicken sandwich': 6.5950894874877284e-12,\n",
       " 'chicken frankie': 8.64369043533659e-14}"
      ]
     },
     "execution_count": 85,
     "metadata": {},
     "output_type": "execute_result"
    }
   ],
   "source": [
    "recommend"
   ]
  },
  {
   "cell_type": "code",
   "execution_count": 75,
   "metadata": {},
   "outputs": [],
   "source": [
    "veg_list = ['berryblast','paneer tikka']\n",
    "non_veg_list = ['andhra chilli chicken','rich chicken broth','smoked chicken sandwich','chicken frankie']"
   ]
  },
  {
   "cell_type": "code",
   "execution_count": 81,
   "metadata": {},
   "outputs": [
    {
     "data": {
      "text/plain": [
       "0.5491666666666667"
      ]
     },
     "execution_count": 81,
     "metadata": {},
     "output_type": "execute_result"
    }
   ],
   "source": [
    "predicted4[0][0]"
   ]
  },
  {
   "cell_type": "code",
   "execution_count": 88,
   "metadata": {},
   "outputs": [],
   "source": [
    "new_recommend = {}\n",
    "if (predicted4[0][0] > 0.5):\n",
    "    for key in recommend:\n",
    "        if key in veg_list:\n",
    "            new_recommend[key] = recommend[key]\n",
    "            \n",
    "else:\n",
    "    new_recommend = recommend\n",
    "            "
   ]
  },
  {
   "cell_type": "code",
   "execution_count": 89,
   "metadata": {},
   "outputs": [
    {
     "data": {
      "text/plain": [
       "{'berryblast': 0.4999999999887494}"
      ]
     },
     "execution_count": 89,
     "metadata": {},
     "output_type": "execute_result"
    }
   ],
   "source": [
    "new_recommend"
   ]
  },
  {
   "cell_type": "code",
   "execution_count": null,
   "metadata": {},
   "outputs": [],
   "source": []
  }
 ],
 "metadata": {
  "kernelspec": {
   "display_name": "Python 3",
   "language": "python",
   "name": "python3"
  },
  "language_info": {
   "codemirror_mode": {
    "name": "ipython",
    "version": 3
   },
   "file_extension": ".py",
   "mimetype": "text/x-python",
   "name": "python",
   "nbconvert_exporter": "python",
   "pygments_lexer": "ipython3",
   "version": "3.7.3"
  }
 },
 "nbformat": 4,
 "nbformat_minor": 2
}
